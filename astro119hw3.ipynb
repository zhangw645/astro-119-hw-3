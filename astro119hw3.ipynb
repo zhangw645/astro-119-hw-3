{
 "cells": [
  {
   "cell_type": "code",
   "execution_count": null,
   "metadata": {},
   "outputs": [],
   "source": [
    "import numpy as np\n",
    "import math as mt\n",
    "import matplotlib.pyplot as plt"
   ]
  },
  {
   "cell_type": "code",
   "execution_count": null,
   "metadata": {},
   "outputs": [],
   "source": [
    "x = np.arange(0,2*np.pi,(2*np.pi)/1000)\n",
    "y = 5.5*np.cos(2*x) + 5.5\n",
    "w = 0.02*np.exp(x)\n",
    "z = 0.25*x**2 + 0.1*np.sin(10*x)\n",
    "\n",
    "\n",
    "\n",
    "\n"
   ]
  },
  {
   "cell_type": "code",
   "execution_count": null,
   "metadata": {},
   "outputs": [],
   "source": [
    "fig = plt.figure(figsize = (6,6))\n",
    "\n",
    "plt.plot(x, y, label=r'$y = \\5.5*cos(2*x)+5.5$')\n",
    "plt.plot(x, w, label=r'$y = \\0.02*exp(x)$')\n",
    "plt.plot(x, z, label=r'$y = \\0.25*x^2 + 0.1sin(10x)')\n",
    "\n",
    "         \n",
    "plt.xlabel('time in astro 119')\n",
    "plt.ylabel('awesomeness level')\n",
    "plt.xlim(0,2*np.pi)\n",
    "plt.ylim(-1,12)\n",
    "         \n",
    "         \n",
    "plt.show()\n",
    "         "
   ]
  },
  {
   "cell_type": "code",
   "execution_count": null,
   "metadata": {},
   "outputs": [],
   "source": []
  }
 ],
 "metadata": {
  "kernelspec": {
   "display_name": "Python 3",
   "language": "python",
   "name": "python3"
  },
  "language_info": {
   "codemirror_mode": {
    "name": "ipython",
    "version": 3
   },
   "file_extension": ".py",
   "mimetype": "text/x-python",
   "name": "python",
   "nbconvert_exporter": "python",
   "pygments_lexer": "ipython3",
   "version": "3.8.5"
  }
 },
 "nbformat": 4,
 "nbformat_minor": 4
}
